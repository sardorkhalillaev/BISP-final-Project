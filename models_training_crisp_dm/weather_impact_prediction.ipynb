{
 "cells": [
  {
   "cell_type": "markdown",
   "id": "ddd9674d-388c-4354-8ba4-5651f3cebdde",
   "metadata": {},
   "source": [
    "# Weather Impact Prediction"
   ]
  },
  {
   "cell_type": "code",
   "execution_count": 16,
   "id": "06d21e8e-32f5-4253-8ca0-8f703d9903d6",
   "metadata": {
    "tags": []
   },
   "outputs": [],
   "source": [
    "import pandas as pd\n",
    "import numpy as np\n",
    "import matplotlib.pyplot as plt\n",
    "import seaborn as sns\n",
    "import pickle\n",
    "import joblib\n",
    "\n",
    "from sklearn.model_selection import train_test_split\n",
    "from sklearn.preprocessing import LabelEncoder, StandardScaler\n",
    "from sklearn.ensemble import RandomForestClassifier\n",
    "from sklearn.metrics import accuracy_score, classification_report, confusion_matrix, roc_auc_score, roc_curve\n"
   ]
  },
  {
   "cell_type": "markdown",
   "id": "d3fd3341-3251-4e20-8fdc-d63c28d2541f",
   "metadata": {},
   "source": [
    "## Load Data"
   ]
  },
  {
   "cell_type": "code",
   "execution_count": 2,
   "id": "a533962a-f0bb-4c16-ab48-bd188e4fde92",
   "metadata": {
    "tags": []
   },
   "outputs": [
    {
     "data": {
      "text/html": [
       "<div>\n",
       "<style scoped>\n",
       "    .dataframe tbody tr th:only-of-type {\n",
       "        vertical-align: middle;\n",
       "    }\n",
       "\n",
       "    .dataframe tbody tr th {\n",
       "        vertical-align: top;\n",
       "    }\n",
       "\n",
       "    .dataframe thead th {\n",
       "        text-align: right;\n",
       "    }\n",
       "</style>\n",
       "<table border=\"1\" class=\"dataframe\">\n",
       "  <thead>\n",
       "    <tr style=\"text-align: right;\">\n",
       "      <th></th>\n",
       "      <th>FlightID</th>\n",
       "      <th>Airline</th>\n",
       "      <th>DepartureAirport</th>\n",
       "      <th>ArrivalAirport</th>\n",
       "      <th>OriginAirport</th>\n",
       "      <th>Gate</th>\n",
       "      <th>ScheduledTime</th>\n",
       "      <th>ScheduledArrivalTime</th>\n",
       "      <th>FlightDuration</th>\n",
       "      <th>BaggageHandlers</th>\n",
       "      <th>...</th>\n",
       "      <th>GateAvailability</th>\n",
       "      <th>GateType</th>\n",
       "      <th>AircraftTurnaroundTime</th>\n",
       "      <th>CheckInQueueTime</th>\n",
       "      <th>SecurityWaitTime</th>\n",
       "      <th>LoungeUsage</th>\n",
       "      <th>OnTimePerformance</th>\n",
       "      <th>BaggageClaimBelts</th>\n",
       "      <th>CustomsOfficers</th>\n",
       "      <th>ImmigrationOfficers</th>\n",
       "    </tr>\n",
       "  </thead>\n",
       "  <tbody>\n",
       "    <tr>\n",
       "      <th>0</th>\n",
       "      <td>HY20240101_001D</td>\n",
       "      <td>HY</td>\n",
       "      <td>TAS</td>\n",
       "      <td>FRA</td>\n",
       "      <td>NaN</td>\n",
       "      <td>C18</td>\n",
       "      <td>2024-01-01 22:11:00</td>\n",
       "      <td>NaN</td>\n",
       "      <td>135</td>\n",
       "      <td>4</td>\n",
       "      <td>...</td>\n",
       "      <td>Available</td>\n",
       "      <td>International</td>\n",
       "      <td>57</td>\n",
       "      <td>7</td>\n",
       "      <td>27</td>\n",
       "      <td>No</td>\n",
       "      <td>Delayed</td>\n",
       "      <td>2</td>\n",
       "      <td>9</td>\n",
       "      <td>5</td>\n",
       "    </tr>\n",
       "    <tr>\n",
       "      <th>1</th>\n",
       "      <td>KE20240101_002D</td>\n",
       "      <td>KE</td>\n",
       "      <td>TAS</td>\n",
       "      <td>KUL</td>\n",
       "      <td>NaN</td>\n",
       "      <td>C3</td>\n",
       "      <td>2024-01-01 08:02:00</td>\n",
       "      <td>NaN</td>\n",
       "      <td>521</td>\n",
       "      <td>4</td>\n",
       "      <td>...</td>\n",
       "      <td>Available</td>\n",
       "      <td>International</td>\n",
       "      <td>57</td>\n",
       "      <td>7</td>\n",
       "      <td>27</td>\n",
       "      <td>No</td>\n",
       "      <td>Delayed</td>\n",
       "      <td>2</td>\n",
       "      <td>9</td>\n",
       "      <td>5</td>\n",
       "    </tr>\n",
       "    <tr>\n",
       "      <th>2</th>\n",
       "      <td>KE20240101_003D</td>\n",
       "      <td>KE</td>\n",
       "      <td>TAS</td>\n",
       "      <td>IST</td>\n",
       "      <td>NaN</td>\n",
       "      <td>C3</td>\n",
       "      <td>2024-01-01 20:33:00</td>\n",
       "      <td>NaN</td>\n",
       "      <td>291</td>\n",
       "      <td>4</td>\n",
       "      <td>...</td>\n",
       "      <td>Available</td>\n",
       "      <td>International</td>\n",
       "      <td>57</td>\n",
       "      <td>7</td>\n",
       "      <td>27</td>\n",
       "      <td>No</td>\n",
       "      <td>Delayed</td>\n",
       "      <td>2</td>\n",
       "      <td>9</td>\n",
       "      <td>5</td>\n",
       "    </tr>\n",
       "    <tr>\n",
       "      <th>3</th>\n",
       "      <td>HY20240101_004D</td>\n",
       "      <td>HY</td>\n",
       "      <td>TAS</td>\n",
       "      <td>SIN</td>\n",
       "      <td>NaN</td>\n",
       "      <td>C3</td>\n",
       "      <td>2024-01-01 20:03:00</td>\n",
       "      <td>NaN</td>\n",
       "      <td>462</td>\n",
       "      <td>2</td>\n",
       "      <td>...</td>\n",
       "      <td>Available</td>\n",
       "      <td>International</td>\n",
       "      <td>57</td>\n",
       "      <td>7</td>\n",
       "      <td>27</td>\n",
       "      <td>No</td>\n",
       "      <td>OnTime</td>\n",
       "      <td>2</td>\n",
       "      <td>9</td>\n",
       "      <td>5</td>\n",
       "    </tr>\n",
       "    <tr>\n",
       "      <th>4</th>\n",
       "      <td>HY20240101_005A</td>\n",
       "      <td>HY</td>\n",
       "      <td>NaN</td>\n",
       "      <td>NaN</td>\n",
       "      <td>FRA</td>\n",
       "      <td>C8</td>\n",
       "      <td>NaN</td>\n",
       "      <td>2024-01-01 11:50:00</td>\n",
       "      <td>192</td>\n",
       "      <td>4</td>\n",
       "      <td>...</td>\n",
       "      <td>Available</td>\n",
       "      <td>International</td>\n",
       "      <td>57</td>\n",
       "      <td>7</td>\n",
       "      <td>27</td>\n",
       "      <td>No</td>\n",
       "      <td>OnTime</td>\n",
       "      <td>2</td>\n",
       "      <td>9</td>\n",
       "      <td>5</td>\n",
       "    </tr>\n",
       "    <tr>\n",
       "      <th>...</th>\n",
       "      <td>...</td>\n",
       "      <td>...</td>\n",
       "      <td>...</td>\n",
       "      <td>...</td>\n",
       "      <td>...</td>\n",
       "      <td>...</td>\n",
       "      <td>...</td>\n",
       "      <td>...</td>\n",
       "      <td>...</td>\n",
       "      <td>...</td>\n",
       "      <td>...</td>\n",
       "      <td>...</td>\n",
       "      <td>...</td>\n",
       "      <td>...</td>\n",
       "      <td>...</td>\n",
       "      <td>...</td>\n",
       "      <td>...</td>\n",
       "      <td>...</td>\n",
       "      <td>...</td>\n",
       "      <td>...</td>\n",
       "      <td>...</td>\n",
       "    </tr>\n",
       "    <tr>\n",
       "      <th>32935</th>\n",
       "      <td>TK20241231_086A</td>\n",
       "      <td>TK</td>\n",
       "      <td>NaN</td>\n",
       "      <td>NaN</td>\n",
       "      <td>DXB</td>\n",
       "      <td>B1</td>\n",
       "      <td>NaN</td>\n",
       "      <td>2024-12-31 16:50:00</td>\n",
       "      <td>119</td>\n",
       "      <td>6</td>\n",
       "      <td>...</td>\n",
       "      <td>Available</td>\n",
       "      <td>International</td>\n",
       "      <td>57</td>\n",
       "      <td>7</td>\n",
       "      <td>27</td>\n",
       "      <td>No</td>\n",
       "      <td>OnTime</td>\n",
       "      <td>2</td>\n",
       "      <td>9</td>\n",
       "      <td>5</td>\n",
       "    </tr>\n",
       "    <tr>\n",
       "      <th>32936</th>\n",
       "      <td>HY20241231_087A</td>\n",
       "      <td>HY</td>\n",
       "      <td>NaN</td>\n",
       "      <td>NaN</td>\n",
       "      <td>DXB</td>\n",
       "      <td>B16</td>\n",
       "      <td>NaN</td>\n",
       "      <td>2024-12-31 22:10:00</td>\n",
       "      <td>591</td>\n",
       "      <td>2</td>\n",
       "      <td>...</td>\n",
       "      <td>Available</td>\n",
       "      <td>International</td>\n",
       "      <td>57</td>\n",
       "      <td>7</td>\n",
       "      <td>27</td>\n",
       "      <td>No</td>\n",
       "      <td>Delayed</td>\n",
       "      <td>2</td>\n",
       "      <td>9</td>\n",
       "      <td>5</td>\n",
       "    </tr>\n",
       "    <tr>\n",
       "      <th>32937</th>\n",
       "      <td>HY20241231_088A</td>\n",
       "      <td>HY</td>\n",
       "      <td>NaN</td>\n",
       "      <td>NaN</td>\n",
       "      <td>LHR</td>\n",
       "      <td>C8</td>\n",
       "      <td>NaN</td>\n",
       "      <td>2024-12-31 19:04:00</td>\n",
       "      <td>103</td>\n",
       "      <td>4</td>\n",
       "      <td>...</td>\n",
       "      <td>Available</td>\n",
       "      <td>International</td>\n",
       "      <td>57</td>\n",
       "      <td>7</td>\n",
       "      <td>27</td>\n",
       "      <td>No</td>\n",
       "      <td>Delayed</td>\n",
       "      <td>2</td>\n",
       "      <td>9</td>\n",
       "      <td>5</td>\n",
       "    </tr>\n",
       "    <tr>\n",
       "      <th>32938</th>\n",
       "      <td>TK20241231_089A</td>\n",
       "      <td>TK</td>\n",
       "      <td>NaN</td>\n",
       "      <td>NaN</td>\n",
       "      <td>DEL</td>\n",
       "      <td>B20</td>\n",
       "      <td>NaN</td>\n",
       "      <td>2025-01-01 06:42:00</td>\n",
       "      <td>596</td>\n",
       "      <td>4</td>\n",
       "      <td>...</td>\n",
       "      <td>Available</td>\n",
       "      <td>International</td>\n",
       "      <td>57</td>\n",
       "      <td>7</td>\n",
       "      <td>27</td>\n",
       "      <td>No</td>\n",
       "      <td>OnTime</td>\n",
       "      <td>2</td>\n",
       "      <td>9</td>\n",
       "      <td>5</td>\n",
       "    </tr>\n",
       "    <tr>\n",
       "      <th>32939</th>\n",
       "      <td>SU20241231_090A</td>\n",
       "      <td>SU</td>\n",
       "      <td>NaN</td>\n",
       "      <td>NaN</td>\n",
       "      <td>ICN</td>\n",
       "      <td>C1</td>\n",
       "      <td>NaN</td>\n",
       "      <td>2024-12-31 17:18:00</td>\n",
       "      <td>294</td>\n",
       "      <td>4</td>\n",
       "      <td>...</td>\n",
       "      <td>Available</td>\n",
       "      <td>International</td>\n",
       "      <td>57</td>\n",
       "      <td>7</td>\n",
       "      <td>27</td>\n",
       "      <td>No</td>\n",
       "      <td>Delayed</td>\n",
       "      <td>2</td>\n",
       "      <td>9</td>\n",
       "      <td>5</td>\n",
       "    </tr>\n",
       "  </tbody>\n",
       "</table>\n",
       "<p>32940 rows × 32 columns</p>\n",
       "</div>"
      ],
      "text/plain": [
       "              FlightID Airline DepartureAirport ArrivalAirport OriginAirport  \\\n",
       "0      HY20240101_001D      HY              TAS            FRA           NaN   \n",
       "1      KE20240101_002D      KE              TAS            KUL           NaN   \n",
       "2      KE20240101_003D      KE              TAS            IST           NaN   \n",
       "3      HY20240101_004D      HY              TAS            SIN           NaN   \n",
       "4      HY20240101_005A      HY              NaN            NaN           FRA   \n",
       "...                ...     ...              ...            ...           ...   \n",
       "32935  TK20241231_086A      TK              NaN            NaN           DXB   \n",
       "32936  HY20241231_087A      HY              NaN            NaN           DXB   \n",
       "32937  HY20241231_088A      HY              NaN            NaN           LHR   \n",
       "32938  TK20241231_089A      TK              NaN            NaN           DEL   \n",
       "32939  SU20241231_090A      SU              NaN            NaN           ICN   \n",
       "\n",
       "      Gate        ScheduledTime ScheduledArrivalTime  FlightDuration  \\\n",
       "0      C18  2024-01-01 22:11:00                  NaN             135   \n",
       "1       C3  2024-01-01 08:02:00                  NaN             521   \n",
       "2       C3  2024-01-01 20:33:00                  NaN             291   \n",
       "3       C3  2024-01-01 20:03:00                  NaN             462   \n",
       "4       C8                  NaN  2024-01-01 11:50:00             192   \n",
       "...    ...                  ...                  ...             ...   \n",
       "32935   B1                  NaN  2024-12-31 16:50:00             119   \n",
       "32936  B16                  NaN  2024-12-31 22:10:00             591   \n",
       "32937   C8                  NaN  2024-12-31 19:04:00             103   \n",
       "32938  B20                  NaN  2025-01-01 06:42:00             596   \n",
       "32939   C1                  NaN  2024-12-31 17:18:00             294   \n",
       "\n",
       "       BaggageHandlers  ...  GateAvailability       GateType  \\\n",
       "0                    4  ...         Available  International   \n",
       "1                    4  ...         Available  International   \n",
       "2                    4  ...         Available  International   \n",
       "3                    2  ...         Available  International   \n",
       "4                    4  ...         Available  International   \n",
       "...                ...  ...               ...            ...   \n",
       "32935                6  ...         Available  International   \n",
       "32936                2  ...         Available  International   \n",
       "32937                4  ...         Available  International   \n",
       "32938                4  ...         Available  International   \n",
       "32939                4  ...         Available  International   \n",
       "\n",
       "       AircraftTurnaroundTime  CheckInQueueTime SecurityWaitTime  LoungeUsage  \\\n",
       "0                          57                 7               27           No   \n",
       "1                          57                 7               27           No   \n",
       "2                          57                 7               27           No   \n",
       "3                          57                 7               27           No   \n",
       "4                          57                 7               27           No   \n",
       "...                       ...               ...              ...          ...   \n",
       "32935                      57                 7               27           No   \n",
       "32936                      57                 7               27           No   \n",
       "32937                      57                 7               27           No   \n",
       "32938                      57                 7               27           No   \n",
       "32939                      57                 7               27           No   \n",
       "\n",
       "      OnTimePerformance  BaggageClaimBelts  CustomsOfficers  \\\n",
       "0               Delayed                  2                9   \n",
       "1               Delayed                  2                9   \n",
       "2               Delayed                  2                9   \n",
       "3                OnTime                  2                9   \n",
       "4                OnTime                  2                9   \n",
       "...                 ...                ...              ...   \n",
       "32935            OnTime                  2                9   \n",
       "32936           Delayed                  2                9   \n",
       "32937           Delayed                  2                9   \n",
       "32938            OnTime                  2                9   \n",
       "32939           Delayed                  2                9   \n",
       "\n",
       "       ImmigrationOfficers  \n",
       "0                        5  \n",
       "1                        5  \n",
       "2                        5  \n",
       "3                        5  \n",
       "4                        5  \n",
       "...                    ...  \n",
       "32935                    5  \n",
       "32936                    5  \n",
       "32937                    5  \n",
       "32938                    5  \n",
       "32939                    5  \n",
       "\n",
       "[32940 rows x 32 columns]"
      ]
     },
     "execution_count": 2,
     "metadata": {},
     "output_type": "execute_result"
    }
   ],
   "source": [
    "data = pd.read_csv('TAS_Airport_Data_2024_balanced.csv')\n",
    "data"
   ]
  },
  {
   "cell_type": "code",
   "execution_count": 27,
   "id": "3422537e-b76f-4eac-8700-c783c2fc7dca",
   "metadata": {
    "tags": []
   },
   "outputs": [
    {
     "name": "stdout",
     "output_type": "stream",
     "text": [
      "DelayDueToWeather\n",
      "1.0    13176\n",
      "Name: count, dtype: int64\n"
     ]
    }
   ],
   "source": [
    "\n"
   ]
  },
  {
   "cell_type": "code",
   "execution_count": 3,
   "id": "b445a10d-5aad-4f06-b2bd-77d80addf130",
   "metadata": {
    "tags": []
   },
   "outputs": [],
   "source": [
    "bad_weather_conditions = [\"Storm\", \"Heavy Rain\", \"Snow\", \"Fog\", \"Thunderstorm\"]"
   ]
  },
  {
   "cell_type": "markdown",
   "id": "d23cb17c-8f11-464d-b45f-8168dfa78b3c",
   "metadata": {},
   "source": [
    "## New binary target"
   ]
  },
  {
   "cell_type": "code",
   "execution_count": 4,
   "id": "dbd69f27-e692-49cf-acb4-e92816ca4621",
   "metadata": {
    "tags": []
   },
   "outputs": [],
   "source": [
    "data[\"DelayDueToWeather\"] = np.where(\n",
    "    (data[\"WeatherCondition\"].isin(bad_weather_conditions)) & (data[\"DepartureDelay\"] > 15),\n",
    "    1, 0\n",
    ")\n",
    "\n"
   ]
  },
  {
   "cell_type": "markdown",
   "id": "80fbb03e-8941-4f09-81ff-b5a688512145",
   "metadata": {},
   "source": [
    "## Drop iirelevant columns"
   ]
  },
  {
   "cell_type": "code",
   "execution_count": 5,
   "id": "dddc9b49-d31a-4f04-8b98-12b69a44b4c7",
   "metadata": {
    "tags": []
   },
   "outputs": [],
   "source": [
    "data = data.drop(columns=[\"FlightID\", \"DepartureAirport\", \"ArrivalAirport\", \"ScheduledTime\", \"ScheduledArrivalTime\", \n",
    "                      \"ReasonForDelay\", \"OnTimePerformance\", \"DepartureDelay\", \"ArrivalDelay\"])  "
   ]
  },
  {
   "cell_type": "markdown",
   "id": "ad1e8d04-98cd-431e-ae0e-ae7f63048c93",
   "metadata": {},
   "source": [
    "## Fill missing values and Encode categorical variables"
   ]
  },
  {
   "cell_type": "code",
   "execution_count": 6,
   "id": "e21a3608-7fcd-4d5a-b62f-7aee6cb818a5",
   "metadata": {
    "tags": []
   },
   "outputs": [],
   "source": [
    "data = data.fillna(method='ffill')\n",
    "\n",
    "\n",
    "categorical_cols = data.select_dtypes(include=\"object\").columns\n",
    "label_encoders = {}\n",
    "\n",
    "for col in categorical_cols:\n",
    "    le = LabelEncoder()\n",
    "    data[col] = le.fit_transform(data[col])\n",
    "    label_encoders[col] = le\n"
   ]
  },
  {
   "cell_type": "code",
   "execution_count": null,
   "id": "100b8011-7ae6-4832-bb13-1ba9d7eae276",
   "metadata": {
    "tags": []
   },
   "outputs": [],
   "source": []
  },
  {
   "cell_type": "markdown",
   "id": "dc3e1516-af3f-43c1-96d1-1b7a7748d155",
   "metadata": {},
   "source": [
    "## Feature matrix and target"
   ]
  },
  {
   "cell_type": "code",
   "execution_count": 7,
   "id": "3a886568-4802-40d8-82c1-b1d104fabbff",
   "metadata": {
    "tags": []
   },
   "outputs": [],
   "source": [
    "X = data.drop(columns=[\"DelayDueToWeather\"])\n",
    "y = data[\"DelayDueToWeather\"]"
   ]
  },
  {
   "cell_type": "markdown",
   "id": "252c2b68-e437-4b93-9947-d1725b93aadb",
   "metadata": {},
   "source": [
    "## Split data"
   ]
  },
  {
   "cell_type": "code",
   "execution_count": 8,
   "id": "6aae2c53-8627-4e8b-9850-f6328455bffe",
   "metadata": {
    "tags": []
   },
   "outputs": [],
   "source": [
    "X_train, X_test, y_train, y_test = train_test_split(\n",
    "    X, y, \n",
    "    test_size=0.2, \n",
    "    random_state=42, \n",
    "    stratify=y)"
   ]
  },
  {
   "cell_type": "markdown",
   "id": "5e0d3663-8ec6-406d-bb19-eb7f09992fe1",
   "metadata": {},
   "source": [
    "## Feature scaling"
   ]
  },
  {
   "cell_type": "code",
   "execution_count": 9,
   "id": "ced8b157-1832-41a2-bc2e-b08c5f9f19e2",
   "metadata": {
    "tags": []
   },
   "outputs": [],
   "source": [
    "scaler = StandardScaler()\n",
    "X_train_scaled = scaler.fit_transform(X_train)\n",
    "X_test_scaled = scaler.transform(X_test)"
   ]
  },
  {
   "cell_type": "markdown",
   "id": "e61b7231-1586-4c1c-a418-11ac77bf0379",
   "metadata": {},
   "source": [
    "## Model training"
   ]
  },
  {
   "cell_type": "code",
   "execution_count": 10,
   "id": "e0cc16dc-3df4-42a1-8d40-34b9d330edcd",
   "metadata": {
    "tags": []
   },
   "outputs": [
    {
     "data": {
      "text/html": [
       "<style>#sk-container-id-1 {color: black;}#sk-container-id-1 pre{padding: 0;}#sk-container-id-1 div.sk-toggleable {background-color: white;}#sk-container-id-1 label.sk-toggleable__label {cursor: pointer;display: block;width: 100%;margin-bottom: 0;padding: 0.3em;box-sizing: border-box;text-align: center;}#sk-container-id-1 label.sk-toggleable__label-arrow:before {content: \"▸\";float: left;margin-right: 0.25em;color: #696969;}#sk-container-id-1 label.sk-toggleable__label-arrow:hover:before {color: black;}#sk-container-id-1 div.sk-estimator:hover label.sk-toggleable__label-arrow:before {color: black;}#sk-container-id-1 div.sk-toggleable__content {max-height: 0;max-width: 0;overflow: hidden;text-align: left;background-color: #f0f8ff;}#sk-container-id-1 div.sk-toggleable__content pre {margin: 0.2em;color: black;border-radius: 0.25em;background-color: #f0f8ff;}#sk-container-id-1 input.sk-toggleable__control:checked~div.sk-toggleable__content {max-height: 200px;max-width: 100%;overflow: auto;}#sk-container-id-1 input.sk-toggleable__control:checked~label.sk-toggleable__label-arrow:before {content: \"▾\";}#sk-container-id-1 div.sk-estimator input.sk-toggleable__control:checked~label.sk-toggleable__label {background-color: #d4ebff;}#sk-container-id-1 div.sk-label input.sk-toggleable__control:checked~label.sk-toggleable__label {background-color: #d4ebff;}#sk-container-id-1 input.sk-hidden--visually {border: 0;clip: rect(1px 1px 1px 1px);clip: rect(1px, 1px, 1px, 1px);height: 1px;margin: -1px;overflow: hidden;padding: 0;position: absolute;width: 1px;}#sk-container-id-1 div.sk-estimator {font-family: monospace;background-color: #f0f8ff;border: 1px dotted black;border-radius: 0.25em;box-sizing: border-box;margin-bottom: 0.5em;}#sk-container-id-1 div.sk-estimator:hover {background-color: #d4ebff;}#sk-container-id-1 div.sk-parallel-item::after {content: \"\";width: 100%;border-bottom: 1px solid gray;flex-grow: 1;}#sk-container-id-1 div.sk-label:hover label.sk-toggleable__label {background-color: #d4ebff;}#sk-container-id-1 div.sk-serial::before {content: \"\";position: absolute;border-left: 1px solid gray;box-sizing: border-box;top: 0;bottom: 0;left: 50%;z-index: 0;}#sk-container-id-1 div.sk-serial {display: flex;flex-direction: column;align-items: center;background-color: white;padding-right: 0.2em;padding-left: 0.2em;position: relative;}#sk-container-id-1 div.sk-item {position: relative;z-index: 1;}#sk-container-id-1 div.sk-parallel {display: flex;align-items: stretch;justify-content: center;background-color: white;position: relative;}#sk-container-id-1 div.sk-item::before, #sk-container-id-1 div.sk-parallel-item::before {content: \"\";position: absolute;border-left: 1px solid gray;box-sizing: border-box;top: 0;bottom: 0;left: 50%;z-index: -1;}#sk-container-id-1 div.sk-parallel-item {display: flex;flex-direction: column;z-index: 1;position: relative;background-color: white;}#sk-container-id-1 div.sk-parallel-item:first-child::after {align-self: flex-end;width: 50%;}#sk-container-id-1 div.sk-parallel-item:last-child::after {align-self: flex-start;width: 50%;}#sk-container-id-1 div.sk-parallel-item:only-child::after {width: 0;}#sk-container-id-1 div.sk-dashed-wrapped {border: 1px dashed gray;margin: 0 0.4em 0.5em 0.4em;box-sizing: border-box;padding-bottom: 0.4em;background-color: white;}#sk-container-id-1 div.sk-label label {font-family: monospace;font-weight: bold;display: inline-block;line-height: 1.2em;}#sk-container-id-1 div.sk-label-container {text-align: center;}#sk-container-id-1 div.sk-container {/* jupyter's `normalize.less` sets `[hidden] { display: none; }` but bootstrap.min.css set `[hidden] { display: none !important; }` so we also need the `!important` here to be able to override the default hidden behavior on the sphinx rendered scikit-learn.org. See: https://github.com/scikit-learn/scikit-learn/issues/21755 */display: inline-block !important;position: relative;}#sk-container-id-1 div.sk-text-repr-fallback {display: none;}</style><div id=\"sk-container-id-1\" class=\"sk-top-container\"><div class=\"sk-text-repr-fallback\"><pre>RandomForestClassifier(random_state=42)</pre><b>In a Jupyter environment, please rerun this cell to show the HTML representation or trust the notebook. <br />On GitHub, the HTML representation is unable to render, please try loading this page with nbviewer.org.</b></div><div class=\"sk-container\" hidden><div class=\"sk-item\"><div class=\"sk-estimator sk-toggleable\"><input class=\"sk-toggleable__control sk-hidden--visually\" id=\"sk-estimator-id-1\" type=\"checkbox\" checked><label for=\"sk-estimator-id-1\" class=\"sk-toggleable__label sk-toggleable__label-arrow\">RandomForestClassifier</label><div class=\"sk-toggleable__content\"><pre>RandomForestClassifier(random_state=42)</pre></div></div></div></div></div>"
      ],
      "text/plain": [
       "RandomForestClassifier(random_state=42)"
      ]
     },
     "execution_count": 10,
     "metadata": {},
     "output_type": "execute_result"
    }
   ],
   "source": [
    "model = RandomForestClassifier(n_estimators=100, random_state=42)\n",
    "model.fit(X_train_scaled, y_train)"
   ]
  },
  {
   "cell_type": "markdown",
   "id": "7e3c276f-1494-4776-878f-537f4dedcb28",
   "metadata": {},
   "source": [
    "## Predictions"
   ]
  },
  {
   "cell_type": "code",
   "execution_count": 11,
   "id": "bfadca44-a030-438b-a821-1dba4881136c",
   "metadata": {
    "tags": []
   },
   "outputs": [
    {
     "ename": "IndexError",
     "evalue": "index 1 is out of bounds for axis 1 with size 1",
     "output_type": "error",
     "traceback": [
      "\u001b[0;31m---------------------------------------------------------------------------\u001b[0m",
      "\u001b[0;31mIndexError\u001b[0m                                Traceback (most recent call last)",
      "Cell \u001b[0;32mIn[11], line 2\u001b[0m\n\u001b[1;32m      1\u001b[0m y_pred \u001b[38;5;241m=\u001b[39m model\u001b[38;5;241m.\u001b[39mpredict(X_test_scaled)\n\u001b[0;32m----> 2\u001b[0m y_prob \u001b[38;5;241m=\u001b[39m model\u001b[38;5;241m.\u001b[39mpredict_proba(X_test_scaled)[:, \u001b[38;5;241m1\u001b[39m]\n",
      "\u001b[0;31mIndexError\u001b[0m: index 1 is out of bounds for axis 1 with size 1"
     ]
    }
   ],
   "source": [
    "y_pred = model.predict(X_test_scaled)\n",
    "y_prob = model.predict_proba(X_test_scaled)[:, 1]"
   ]
  },
  {
   "cell_type": "code",
   "execution_count": 12,
   "id": "910bee6d-d024-40b5-8363-cdb0e52a7630",
   "metadata": {
    "tags": []
   },
   "outputs": [
    {
     "name": "stdout",
     "output_type": "stream",
     "text": [
      "DelayDueToWeather\n",
      "0    32940\n",
      "Name: count, dtype: int64\n"
     ]
    }
   ],
   "source": [
    "print(y.value_counts())"
   ]
  },
  {
   "cell_type": "code",
   "execution_count": 13,
   "id": "d481dbe6-7e62-40b3-a930-1a909b68298a",
   "metadata": {
    "tags": []
   },
   "outputs": [
    {
     "name": "stdout",
     "output_type": "stream",
     "text": [
      "Only one class present in y_test. ROC Curve cannot be drawn.\n"
     ]
    }
   ],
   "source": [
    "if len(np.unique(y_test)) > 1:\n",
    "    y_prob = model.predict_proba(X_test_scaled)[:, 1]\n",
    "\n",
    "    # ROC Curve\n",
    "    fpr, tpr, thresholds = roc_curve(y_test, y_prob)\n",
    "    plt.figure(figsize=(8, 6))\n",
    "    plt.plot(fpr, tpr, label=f\"AUC = {roc_auc_score(y_test, y_prob):.2f}\")\n",
    "    plt.plot([0, 1], [0, 1], linestyle='--')\n",
    "    plt.xlabel(\"False Positive Rate\")\n",
    "    plt.ylabel(\"True Positive Rate\")\n",
    "    plt.title(\"ROC Curve\")\n",
    "    plt.legend()\n",
    "    plt.grid(True)\n",
    "    plt.savefig(\"weather_delay_roc_curve.png\")\n",
    "    plt.show()\n",
    "else:\n",
    "    print(\"Only one class present in y_test. ROC Curve cannot be drawn.\")"
   ]
  },
  {
   "cell_type": "code",
   "execution_count": 14,
   "id": "922774d3-ea66-4ada-bfe6-31bc712bc51f",
   "metadata": {
    "tags": []
   },
   "outputs": [
    {
     "name": "stdout",
     "output_type": "stream",
     "text": [
      "Train set class distribution:\n",
      "DelayDueToWeather\n",
      "0    26352\n",
      "Name: count, dtype: int64\n",
      "\n",
      "Test set class distribution:\n",
      "DelayDueToWeather\n",
      "0    6588\n",
      "Name: count, dtype: int64\n"
     ]
    }
   ],
   "source": [
    "print(\"Train set class distribution:\")\n",
    "print(y_train.value_counts())\n",
    "\n",
    "print(\"\\nTest set class distribution:\")\n",
    "print(y_test.value_counts())"
   ]
  },
  {
   "cell_type": "code",
   "execution_count": 19,
   "id": "fae6a18a-a672-4544-8544-cb5001e129c0",
   "metadata": {
    "tags": []
   },
   "outputs": [
    {
     "data": {
      "text/plain": [
       "['weather_estimation.joblib']"
      ]
     },
     "execution_count": 19,
     "metadata": {},
     "output_type": "execute_result"
    }
   ],
   "source": [
    "joblib.dump(model, \"weather_estimation.joblib\")"
   ]
  },
  {
   "cell_type": "code",
   "execution_count": null,
   "id": "fce29f5f-2914-4886-bc64-10bf907df962",
   "metadata": {},
   "outputs": [],
   "source": []
  }
 ],
 "metadata": {
  "kernelspec": {
   "display_name": "Python 3 (ipykernel)",
   "language": "python",
   "name": "python3"
  },
  "language_info": {
   "codemirror_mode": {
    "name": "ipython",
    "version": 3
   },
   "file_extension": ".py",
   "mimetype": "text/x-python",
   "name": "python",
   "nbconvert_exporter": "python",
   "pygments_lexer": "ipython3",
   "version": "3.11.5"
  },
  "widgets": {
   "application/vnd.jupyter.widget-state+json": {
    "state": {},
    "version_major": 2,
    "version_minor": 0
   }
  }
 },
 "nbformat": 4,
 "nbformat_minor": 5
}
