{
 "cells": [
  {
   "cell_type": "code",
   "execution_count": 2,
   "id": "d1e3b15c-08be-4d35-a02b-302091f33ae5",
   "metadata": {
    "tags": []
   },
   "outputs": [
    {
     "name": "stdout",
     "output_type": "stream",
     "text": [
      "OnTimePerformance\n",
      "Delayed    18117\n",
      "OnTime     14823\n",
      "Name: count, dtype: int64\n"
     ]
    }
   ],
   "source": [
    "import pandas as pd\n",
    "import numpy as np\n",
    "\n",
    "\n",
    "df = pd.read_csv(\"simulated_data/TAS_Airport_Data_2024_final.csv\")\n",
    "\n",
    "\n",
    "percentage = 0.45  \n",
    "\n",
    "n_to_change = int(len(df) * percentage)\n",
    "\n",
    "\n",
    "np.random.seed(42)  \n",
    "rows_to_change = np.random.choice(df.index, size=n_to_change, replace=False)\n",
    "\n",
    "df.loc[rows_to_change, 'OnTimePerformance'] = 'OnTime'\n",
    "\n",
    "df.loc[rows_to_change, 'DepartureDelay'] = df.loc[rows_to_change, 'DepartureDelay'].apply(lambda x: max(0, x - np.random.randint(5, 20)))\n",
    "df.loc[rows_to_change, 'ArrivalDelay'] = df.loc[rows_to_change, 'ArrivalDelay'].apply(lambda x: max(0, x - np.random.randint(5, 20)))\n",
    "df.loc[rows_to_change, 'RunwayDelay'] = df.loc[rows_to_change, 'RunwayDelay'].apply(lambda x: max(0, x - np.random.randint(3, 10)))\n",
    "\n",
    "\n",
    "print(df['OnTimePerformance'].value_counts())\n",
    "\n"
   ]
  },
  {
   "cell_type": "code",
   "execution_count": 3,
   "id": "aecdf7fa-a71f-4728-a21e-58eaae497b95",
   "metadata": {
    "tags": []
   },
   "outputs": [],
   "source": [
    "\n",
    "df.to_csv(\"TAS_Airport_Data_2024_balanced.csv\", index=False)"
   ]
  },
  {
   "cell_type": "code",
   "execution_count": null,
   "id": "f93f8cf4-c247-4bb2-8589-05346374acde",
   "metadata": {},
   "outputs": [],
   "source": []
  }
 ],
 "metadata": {
  "kernelspec": {
   "display_name": "Python 3 (ipykernel)",
   "language": "python",
   "name": "python3"
  },
  "language_info": {
   "codemirror_mode": {
    "name": "ipython",
    "version": 3
   },
   "file_extension": ".py",
   "mimetype": "text/x-python",
   "name": "python",
   "nbconvert_exporter": "python",
   "pygments_lexer": "ipython3",
   "version": "3.11.5"
  },
  "widgets": {
   "application/vnd.jupyter.widget-state+json": {
    "state": {},
    "version_major": 2,
    "version_minor": 0
   }
  }
 },
 "nbformat": 4,
 "nbformat_minor": 5
}
