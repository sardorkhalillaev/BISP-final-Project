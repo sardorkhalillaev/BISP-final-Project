{
 "cells": [
  {
   "cell_type": "markdown",
   "id": "2f94c913-b965-4d4c-ab12-86e26c52ce66",
   "metadata": {},
   "source": [
    "# On-Time Performance"
   ]
  },
  {
   "cell_type": "markdown",
   "id": "ab66bbec-f20a-4472-8711-ed10a1d228e2",
   "metadata": {},
   "source": [
    "## Imports"
   ]
  },
  {
   "cell_type": "code",
   "execution_count": 16,
   "id": "4e7b0ef7-780e-44a6-ba05-0f4b04dc67d4",
   "metadata": {
    "tags": []
   },
   "outputs": [],
   "source": [
    "import pandas as pd\n",
    "import numpy as np\n",
    "import pickle\n",
    "import joblib\n",
    "\n",
    "from sklearn.model_selection import train_test_split\n",
    "from sklearn.preprocessing import LabelEncoder, StandardScaler\n",
    "from sklearn.ensemble import GradientBoostingClassifier\n",
    "from sklearn.metrics import classification_report, confusion_matrix\n",
    "from sklearn.impute import SimpleImputer\n",
    "import matplotlib.pyplot as plt\n",
    "import seaborn as sns"
   ]
  },
  {
   "cell_type": "markdown",
   "id": "8a1877c7-5983-414d-aa24-c00275caf426",
   "metadata": {},
   "source": [
    "## Load Data\n"
   ]
  },
  {
   "cell_type": "code",
   "execution_count": 3,
   "id": "8f58e181-85c8-4801-8204-632265a9f3b9",
   "metadata": {
    "tags": []
   },
   "outputs": [
    {
     "data": {
      "text/html": [
       "<div>\n",
       "<style scoped>\n",
       "    .dataframe tbody tr th:only-of-type {\n",
       "        vertical-align: middle;\n",
       "    }\n",
       "\n",
       "    .dataframe tbody tr th {\n",
       "        vertical-align: top;\n",
       "    }\n",
       "\n",
       "    .dataframe thead th {\n",
       "        text-align: right;\n",
       "    }\n",
       "</style>\n",
       "<table border=\"1\" class=\"dataframe\">\n",
       "  <thead>\n",
       "    <tr style=\"text-align: right;\">\n",
       "      <th></th>\n",
       "      <th>FlightID</th>\n",
       "      <th>Airline</th>\n",
       "      <th>DepartureAirport</th>\n",
       "      <th>ArrivalAirport</th>\n",
       "      <th>OriginAirport</th>\n",
       "      <th>Gate</th>\n",
       "      <th>ScheduledTime</th>\n",
       "      <th>ScheduledArrivalTime</th>\n",
       "      <th>FlightDuration</th>\n",
       "      <th>BaggageHandlers</th>\n",
       "      <th>...</th>\n",
       "      <th>GateAvailability</th>\n",
       "      <th>GateType</th>\n",
       "      <th>AircraftTurnaroundTime</th>\n",
       "      <th>CheckInQueueTime</th>\n",
       "      <th>SecurityWaitTime</th>\n",
       "      <th>LoungeUsage</th>\n",
       "      <th>OnTimePerformance</th>\n",
       "      <th>BaggageClaimBelts</th>\n",
       "      <th>CustomsOfficers</th>\n",
       "      <th>ImmigrationOfficers</th>\n",
       "    </tr>\n",
       "  </thead>\n",
       "  <tbody>\n",
       "    <tr>\n",
       "      <th>0</th>\n",
       "      <td>HY20240101_001D</td>\n",
       "      <td>HY</td>\n",
       "      <td>TAS</td>\n",
       "      <td>FRA</td>\n",
       "      <td>NaN</td>\n",
       "      <td>C18</td>\n",
       "      <td>2024-01-01 22:11:00</td>\n",
       "      <td>NaN</td>\n",
       "      <td>135</td>\n",
       "      <td>4</td>\n",
       "      <td>...</td>\n",
       "      <td>Available</td>\n",
       "      <td>International</td>\n",
       "      <td>57</td>\n",
       "      <td>7</td>\n",
       "      <td>27</td>\n",
       "      <td>No</td>\n",
       "      <td>Delayed</td>\n",
       "      <td>2</td>\n",
       "      <td>9</td>\n",
       "      <td>5</td>\n",
       "    </tr>\n",
       "    <tr>\n",
       "      <th>1</th>\n",
       "      <td>KE20240101_002D</td>\n",
       "      <td>KE</td>\n",
       "      <td>TAS</td>\n",
       "      <td>KUL</td>\n",
       "      <td>NaN</td>\n",
       "      <td>C3</td>\n",
       "      <td>2024-01-01 08:02:00</td>\n",
       "      <td>NaN</td>\n",
       "      <td>521</td>\n",
       "      <td>4</td>\n",
       "      <td>...</td>\n",
       "      <td>Available</td>\n",
       "      <td>International</td>\n",
       "      <td>57</td>\n",
       "      <td>7</td>\n",
       "      <td>27</td>\n",
       "      <td>No</td>\n",
       "      <td>Delayed</td>\n",
       "      <td>2</td>\n",
       "      <td>9</td>\n",
       "      <td>5</td>\n",
       "    </tr>\n",
       "    <tr>\n",
       "      <th>2</th>\n",
       "      <td>KE20240101_003D</td>\n",
       "      <td>KE</td>\n",
       "      <td>TAS</td>\n",
       "      <td>IST</td>\n",
       "      <td>NaN</td>\n",
       "      <td>C3</td>\n",
       "      <td>2024-01-01 20:33:00</td>\n",
       "      <td>NaN</td>\n",
       "      <td>291</td>\n",
       "      <td>4</td>\n",
       "      <td>...</td>\n",
       "      <td>Available</td>\n",
       "      <td>International</td>\n",
       "      <td>57</td>\n",
       "      <td>7</td>\n",
       "      <td>27</td>\n",
       "      <td>No</td>\n",
       "      <td>Delayed</td>\n",
       "      <td>2</td>\n",
       "      <td>9</td>\n",
       "      <td>5</td>\n",
       "    </tr>\n",
       "    <tr>\n",
       "      <th>3</th>\n",
       "      <td>HY20240101_004D</td>\n",
       "      <td>HY</td>\n",
       "      <td>TAS</td>\n",
       "      <td>SIN</td>\n",
       "      <td>NaN</td>\n",
       "      <td>C3</td>\n",
       "      <td>2024-01-01 20:03:00</td>\n",
       "      <td>NaN</td>\n",
       "      <td>462</td>\n",
       "      <td>2</td>\n",
       "      <td>...</td>\n",
       "      <td>Available</td>\n",
       "      <td>International</td>\n",
       "      <td>57</td>\n",
       "      <td>7</td>\n",
       "      <td>27</td>\n",
       "      <td>No</td>\n",
       "      <td>OnTime</td>\n",
       "      <td>2</td>\n",
       "      <td>9</td>\n",
       "      <td>5</td>\n",
       "    </tr>\n",
       "    <tr>\n",
       "      <th>4</th>\n",
       "      <td>HY20240101_005A</td>\n",
       "      <td>HY</td>\n",
       "      <td>NaN</td>\n",
       "      <td>NaN</td>\n",
       "      <td>FRA</td>\n",
       "      <td>C8</td>\n",
       "      <td>NaN</td>\n",
       "      <td>2024-01-01 11:50:00</td>\n",
       "      <td>192</td>\n",
       "      <td>4</td>\n",
       "      <td>...</td>\n",
       "      <td>Available</td>\n",
       "      <td>International</td>\n",
       "      <td>57</td>\n",
       "      <td>7</td>\n",
       "      <td>27</td>\n",
       "      <td>No</td>\n",
       "      <td>OnTime</td>\n",
       "      <td>2</td>\n",
       "      <td>9</td>\n",
       "      <td>5</td>\n",
       "    </tr>\n",
       "    <tr>\n",
       "      <th>...</th>\n",
       "      <td>...</td>\n",
       "      <td>...</td>\n",
       "      <td>...</td>\n",
       "      <td>...</td>\n",
       "      <td>...</td>\n",
       "      <td>...</td>\n",
       "      <td>...</td>\n",
       "      <td>...</td>\n",
       "      <td>...</td>\n",
       "      <td>...</td>\n",
       "      <td>...</td>\n",
       "      <td>...</td>\n",
       "      <td>...</td>\n",
       "      <td>...</td>\n",
       "      <td>...</td>\n",
       "      <td>...</td>\n",
       "      <td>...</td>\n",
       "      <td>...</td>\n",
       "      <td>...</td>\n",
       "      <td>...</td>\n",
       "      <td>...</td>\n",
       "    </tr>\n",
       "    <tr>\n",
       "      <th>32935</th>\n",
       "      <td>TK20241231_086A</td>\n",
       "      <td>TK</td>\n",
       "      <td>NaN</td>\n",
       "      <td>NaN</td>\n",
       "      <td>DXB</td>\n",
       "      <td>B1</td>\n",
       "      <td>NaN</td>\n",
       "      <td>2024-12-31 16:50:00</td>\n",
       "      <td>119</td>\n",
       "      <td>6</td>\n",
       "      <td>...</td>\n",
       "      <td>Available</td>\n",
       "      <td>International</td>\n",
       "      <td>57</td>\n",
       "      <td>7</td>\n",
       "      <td>27</td>\n",
       "      <td>No</td>\n",
       "      <td>OnTime</td>\n",
       "      <td>2</td>\n",
       "      <td>9</td>\n",
       "      <td>5</td>\n",
       "    </tr>\n",
       "    <tr>\n",
       "      <th>32936</th>\n",
       "      <td>HY20241231_087A</td>\n",
       "      <td>HY</td>\n",
       "      <td>NaN</td>\n",
       "      <td>NaN</td>\n",
       "      <td>DXB</td>\n",
       "      <td>B16</td>\n",
       "      <td>NaN</td>\n",
       "      <td>2024-12-31 22:10:00</td>\n",
       "      <td>591</td>\n",
       "      <td>2</td>\n",
       "      <td>...</td>\n",
       "      <td>Available</td>\n",
       "      <td>International</td>\n",
       "      <td>57</td>\n",
       "      <td>7</td>\n",
       "      <td>27</td>\n",
       "      <td>No</td>\n",
       "      <td>Delayed</td>\n",
       "      <td>2</td>\n",
       "      <td>9</td>\n",
       "      <td>5</td>\n",
       "    </tr>\n",
       "    <tr>\n",
       "      <th>32937</th>\n",
       "      <td>HY20241231_088A</td>\n",
       "      <td>HY</td>\n",
       "      <td>NaN</td>\n",
       "      <td>NaN</td>\n",
       "      <td>LHR</td>\n",
       "      <td>C8</td>\n",
       "      <td>NaN</td>\n",
       "      <td>2024-12-31 19:04:00</td>\n",
       "      <td>103</td>\n",
       "      <td>4</td>\n",
       "      <td>...</td>\n",
       "      <td>Available</td>\n",
       "      <td>International</td>\n",
       "      <td>57</td>\n",
       "      <td>7</td>\n",
       "      <td>27</td>\n",
       "      <td>No</td>\n",
       "      <td>Delayed</td>\n",
       "      <td>2</td>\n",
       "      <td>9</td>\n",
       "      <td>5</td>\n",
       "    </tr>\n",
       "    <tr>\n",
       "      <th>32938</th>\n",
       "      <td>TK20241231_089A</td>\n",
       "      <td>TK</td>\n",
       "      <td>NaN</td>\n",
       "      <td>NaN</td>\n",
       "      <td>DEL</td>\n",
       "      <td>B20</td>\n",
       "      <td>NaN</td>\n",
       "      <td>2025-01-01 06:42:00</td>\n",
       "      <td>596</td>\n",
       "      <td>4</td>\n",
       "      <td>...</td>\n",
       "      <td>Available</td>\n",
       "      <td>International</td>\n",
       "      <td>57</td>\n",
       "      <td>7</td>\n",
       "      <td>27</td>\n",
       "      <td>No</td>\n",
       "      <td>OnTime</td>\n",
       "      <td>2</td>\n",
       "      <td>9</td>\n",
       "      <td>5</td>\n",
       "    </tr>\n",
       "    <tr>\n",
       "      <th>32939</th>\n",
       "      <td>SU20241231_090A</td>\n",
       "      <td>SU</td>\n",
       "      <td>NaN</td>\n",
       "      <td>NaN</td>\n",
       "      <td>ICN</td>\n",
       "      <td>C1</td>\n",
       "      <td>NaN</td>\n",
       "      <td>2024-12-31 17:18:00</td>\n",
       "      <td>294</td>\n",
       "      <td>4</td>\n",
       "      <td>...</td>\n",
       "      <td>Available</td>\n",
       "      <td>International</td>\n",
       "      <td>57</td>\n",
       "      <td>7</td>\n",
       "      <td>27</td>\n",
       "      <td>No</td>\n",
       "      <td>Delayed</td>\n",
       "      <td>2</td>\n",
       "      <td>9</td>\n",
       "      <td>5</td>\n",
       "    </tr>\n",
       "  </tbody>\n",
       "</table>\n",
       "<p>32940 rows × 32 columns</p>\n",
       "</div>"
      ],
      "text/plain": [
       "              FlightID Airline DepartureAirport ArrivalAirport OriginAirport  \\\n",
       "0      HY20240101_001D      HY              TAS            FRA           NaN   \n",
       "1      KE20240101_002D      KE              TAS            KUL           NaN   \n",
       "2      KE20240101_003D      KE              TAS            IST           NaN   \n",
       "3      HY20240101_004D      HY              TAS            SIN           NaN   \n",
       "4      HY20240101_005A      HY              NaN            NaN           FRA   \n",
       "...                ...     ...              ...            ...           ...   \n",
       "32935  TK20241231_086A      TK              NaN            NaN           DXB   \n",
       "32936  HY20241231_087A      HY              NaN            NaN           DXB   \n",
       "32937  HY20241231_088A      HY              NaN            NaN           LHR   \n",
       "32938  TK20241231_089A      TK              NaN            NaN           DEL   \n",
       "32939  SU20241231_090A      SU              NaN            NaN           ICN   \n",
       "\n",
       "      Gate        ScheduledTime ScheduledArrivalTime  FlightDuration  \\\n",
       "0      C18  2024-01-01 22:11:00                  NaN             135   \n",
       "1       C3  2024-01-01 08:02:00                  NaN             521   \n",
       "2       C3  2024-01-01 20:33:00                  NaN             291   \n",
       "3       C3  2024-01-01 20:03:00                  NaN             462   \n",
       "4       C8                  NaN  2024-01-01 11:50:00             192   \n",
       "...    ...                  ...                  ...             ...   \n",
       "32935   B1                  NaN  2024-12-31 16:50:00             119   \n",
       "32936  B16                  NaN  2024-12-31 22:10:00             591   \n",
       "32937   C8                  NaN  2024-12-31 19:04:00             103   \n",
       "32938  B20                  NaN  2025-01-01 06:42:00             596   \n",
       "32939   C1                  NaN  2024-12-31 17:18:00             294   \n",
       "\n",
       "       BaggageHandlers  ...  GateAvailability       GateType  \\\n",
       "0                    4  ...         Available  International   \n",
       "1                    4  ...         Available  International   \n",
       "2                    4  ...         Available  International   \n",
       "3                    2  ...         Available  International   \n",
       "4                    4  ...         Available  International   \n",
       "...                ...  ...               ...            ...   \n",
       "32935                6  ...         Available  International   \n",
       "32936                2  ...         Available  International   \n",
       "32937                4  ...         Available  International   \n",
       "32938                4  ...         Available  International   \n",
       "32939                4  ...         Available  International   \n",
       "\n",
       "       AircraftTurnaroundTime  CheckInQueueTime SecurityWaitTime  LoungeUsage  \\\n",
       "0                          57                 7               27           No   \n",
       "1                          57                 7               27           No   \n",
       "2                          57                 7               27           No   \n",
       "3                          57                 7               27           No   \n",
       "4                          57                 7               27           No   \n",
       "...                       ...               ...              ...          ...   \n",
       "32935                      57                 7               27           No   \n",
       "32936                      57                 7               27           No   \n",
       "32937                      57                 7               27           No   \n",
       "32938                      57                 7               27           No   \n",
       "32939                      57                 7               27           No   \n",
       "\n",
       "      OnTimePerformance  BaggageClaimBelts  CustomsOfficers  \\\n",
       "0               Delayed                  2                9   \n",
       "1               Delayed                  2                9   \n",
       "2               Delayed                  2                9   \n",
       "3                OnTime                  2                9   \n",
       "4                OnTime                  2                9   \n",
       "...                 ...                ...              ...   \n",
       "32935            OnTime                  2                9   \n",
       "32936           Delayed                  2                9   \n",
       "32937           Delayed                  2                9   \n",
       "32938            OnTime                  2                9   \n",
       "32939           Delayed                  2                9   \n",
       "\n",
       "       ImmigrationOfficers  \n",
       "0                        5  \n",
       "1                        5  \n",
       "2                        5  \n",
       "3                        5  \n",
       "4                        5  \n",
       "...                    ...  \n",
       "32935                    5  \n",
       "32936                    5  \n",
       "32937                    5  \n",
       "32938                    5  \n",
       "32939                    5  \n",
       "\n",
       "[32940 rows x 32 columns]"
      ]
     },
     "execution_count": 3,
     "metadata": {},
     "output_type": "execute_result"
    }
   ],
   "source": [
    "df = pd.read_csv(\"TAS_Airport_Data_2024_balanced.csv\")\n",
    "df"
   ]
  },
  {
   "cell_type": "markdown",
   "id": "4a06e7a6-eb64-4994-bcfa-4c33827c35d7",
   "metadata": {},
   "source": [
    "## Feature Engineering"
   ]
  },
  {
   "cell_type": "markdown",
   "id": "e93c3de7-9257-4032-aef6-de70eede2793",
   "metadata": {},
   "source": [
    "### Handle datetime "
   ]
  },
  {
   "cell_type": "code",
   "execution_count": 4,
   "id": "b639389b-da60-45b8-8364-14577fbff5ba",
   "metadata": {
    "tags": []
   },
   "outputs": [],
   "source": [
    "df['ScheduledTime'] = pd.to_datetime(df['ScheduledTime'], errors='coerce')\n",
    "df['DepartureHour'] = df['ScheduledTime'].dt.hour\n",
    "df['DepartureDayOfWeek'] = df['ScheduledTime'].dt.dayofweek"
   ]
  },
  {
   "cell_type": "markdown",
   "id": "a7fbb8ba-61ad-4a59-82a5-d96bff746380",
   "metadata": {},
   "source": [
    "### Fill Missing categorical "
   ]
  },
  {
   "cell_type": "code",
   "execution_count": 5,
   "id": "29002b0c-709f-40f4-ae72-4b593aeb605b",
   "metadata": {
    "tags": []
   },
   "outputs": [],
   "source": [
    "categorical_cols = [\n",
    "    \"Airline\", \"DepartureAirport\", \"ArrivalAirport\", \"OriginAirport\",\n",
    "    \"AircraftType\", \"WeatherCondition\", \"ReasonForDelay\", \"GateAvailability\",\n",
    "    \"GateType\", \"LoungeUsage\"\n",
    "]\n",
    "for col in categorical_cols:\n",
    "    df[col] = df[col].fillna(\"Unknown\")"
   ]
  },
  {
   "cell_type": "markdown",
   "id": "2971786d-1b39-4010-90e9-f7a8e4b360fe",
   "metadata": {},
   "source": [
    "### Fill numerical"
   ]
  },
  {
   "cell_type": "code",
   "execution_count": 6,
   "id": "6d3fb4c8-05fe-46ac-af61-efd0e26b4aa4",
   "metadata": {
    "tags": []
   },
   "outputs": [],
   "source": [
    "numeric_cols = df.select_dtypes(include=np.number).columns.tolist()\n",
    "df[numeric_cols] = df[numeric_cols].fillna(df[numeric_cols].median())"
   ]
  },
  {
   "cell_type": "markdown",
   "id": "6531e104-dce2-4043-9e3d-bd5354e30355",
   "metadata": {},
   "source": [
    "### Label encode"
   ]
  },
  {
   "cell_type": "code",
   "execution_count": 7,
   "id": "42d8a07b-2e4d-4367-bcc1-1dca1a38b334",
   "metadata": {
    "tags": []
   },
   "outputs": [],
   "source": [
    "label_encoders = {}\n",
    "for col in categorical_cols:\n",
    "    le = LabelEncoder()\n",
    "    df[col] = le.fit_transform(df[col])\n",
    "    label_encoders[col] = le\n",
    "\n",
    "\n",
    "ontime_encoder = LabelEncoder()\n",
    "df['OnTimePerformance_encoded'] = ontime_encoder.fit_transform(df['OnTimePerformance'])\n",
    "\n",
    "\n",
    "df['DelayImpact'] = df['RunwayDelay'] + df['DepartureDelay'] + df['ArrivalDelay']\n",
    "df['ResourceLoad'] = df['GroundCrew'] + df['FuelTrucks'] + df['CleaningCrew'] + df['SecurityChecks']\n",
    "df['SecurityEfficiency'] = df['SecurityWaitTime'] / (df['SecurityChecks'] + 1)\n"
   ]
  },
  {
   "cell_type": "markdown",
   "id": "82471c8a-6b17-420b-bbaf-20075ed09b30",
   "metadata": {},
   "source": [
    "## Prepare fetures and target "
   ]
  },
  {
   "cell_type": "code",
   "execution_count": 8,
   "id": "582e81ca-b808-40fb-ac32-7fd48c8b93f2",
   "metadata": {
    "tags": []
   },
   "outputs": [],
   "source": [
    "features = [\n",
    "    \"Airline\", \"DepartureAirport\", \"ArrivalAirport\", \"OriginAirport\", \"AircraftType\",\n",
    "    \"FlightDuration\", \"Passengers\", \"WeatherCondition\", \"PreviousFlightDelay\",\n",
    "    \"GateAvailability\", \"GateType\", \"AircraftTurnaroundTime\", \"CheckInQueueTime\",\n",
    "    \"SecurityWaitTime\", \"DepartureHour\", \"DepartureDayOfWeek\",\n",
    "    \"DelayImpact\", \"ResourceLoad\", \"SecurityEfficiency\"\n",
    "]\n",
    "\n",
    "X = df[features]\n",
    "y = df[\"OnTimePerformance_encoded\"]\n"
   ]
  },
  {
   "cell_type": "markdown",
   "id": "743a8a8a-348c-4372-8def-7f17a21f5657",
   "metadata": {},
   "source": [
    "### Scaling"
   ]
  },
  {
   "cell_type": "code",
   "execution_count": 9,
   "id": "33ea51b5-30e6-4b30-93f6-e1fe795b3c26",
   "metadata": {
    "tags": []
   },
   "outputs": [],
   "source": [
    "scaler = StandardScaler()\n",
    "X_scaled = scaler.fit_transform(X)"
   ]
  },
  {
   "cell_type": "markdown",
   "id": "7d34c1f3-c873-4e13-a5e1-62b7af7108a9",
   "metadata": {},
   "source": [
    "## Train-Test Split"
   ]
  },
  {
   "cell_type": "code",
   "execution_count": 10,
   "id": "51907d29-2f4f-47ae-ba04-29472d9c3795",
   "metadata": {
    "tags": []
   },
   "outputs": [],
   "source": [
    "X_train, X_test, y_train, y_test = train_test_split(\n",
    "    X_scaled, y, \n",
    "    test_size=0.2, \n",
    "    random_state=42, \n",
    "    stratify=y  \n",
    ")"
   ]
  },
  {
   "cell_type": "markdown",
   "id": "855c8bea-3f13-496e-ae69-b5051f7f72aa",
   "metadata": {},
   "source": [
    "## Model Training "
   ]
  },
  {
   "cell_type": "code",
   "execution_count": 11,
   "id": "2d21738a-3f5c-40c6-91c5-371e2127b258",
   "metadata": {
    "tags": []
   },
   "outputs": [
    {
     "data": {
      "text/html": [
       "<style>#sk-container-id-1 {color: black;}#sk-container-id-1 pre{padding: 0;}#sk-container-id-1 div.sk-toggleable {background-color: white;}#sk-container-id-1 label.sk-toggleable__label {cursor: pointer;display: block;width: 100%;margin-bottom: 0;padding: 0.3em;box-sizing: border-box;text-align: center;}#sk-container-id-1 label.sk-toggleable__label-arrow:before {content: \"▸\";float: left;margin-right: 0.25em;color: #696969;}#sk-container-id-1 label.sk-toggleable__label-arrow:hover:before {color: black;}#sk-container-id-1 div.sk-estimator:hover label.sk-toggleable__label-arrow:before {color: black;}#sk-container-id-1 div.sk-toggleable__content {max-height: 0;max-width: 0;overflow: hidden;text-align: left;background-color: #f0f8ff;}#sk-container-id-1 div.sk-toggleable__content pre {margin: 0.2em;color: black;border-radius: 0.25em;background-color: #f0f8ff;}#sk-container-id-1 input.sk-toggleable__control:checked~div.sk-toggleable__content {max-height: 200px;max-width: 100%;overflow: auto;}#sk-container-id-1 input.sk-toggleable__control:checked~label.sk-toggleable__label-arrow:before {content: \"▾\";}#sk-container-id-1 div.sk-estimator input.sk-toggleable__control:checked~label.sk-toggleable__label {background-color: #d4ebff;}#sk-container-id-1 div.sk-label input.sk-toggleable__control:checked~label.sk-toggleable__label {background-color: #d4ebff;}#sk-container-id-1 input.sk-hidden--visually {border: 0;clip: rect(1px 1px 1px 1px);clip: rect(1px, 1px, 1px, 1px);height: 1px;margin: -1px;overflow: hidden;padding: 0;position: absolute;width: 1px;}#sk-container-id-1 div.sk-estimator {font-family: monospace;background-color: #f0f8ff;border: 1px dotted black;border-radius: 0.25em;box-sizing: border-box;margin-bottom: 0.5em;}#sk-container-id-1 div.sk-estimator:hover {background-color: #d4ebff;}#sk-container-id-1 div.sk-parallel-item::after {content: \"\";width: 100%;border-bottom: 1px solid gray;flex-grow: 1;}#sk-container-id-1 div.sk-label:hover label.sk-toggleable__label {background-color: #d4ebff;}#sk-container-id-1 div.sk-serial::before {content: \"\";position: absolute;border-left: 1px solid gray;box-sizing: border-box;top: 0;bottom: 0;left: 50%;z-index: 0;}#sk-container-id-1 div.sk-serial {display: flex;flex-direction: column;align-items: center;background-color: white;padding-right: 0.2em;padding-left: 0.2em;position: relative;}#sk-container-id-1 div.sk-item {position: relative;z-index: 1;}#sk-container-id-1 div.sk-parallel {display: flex;align-items: stretch;justify-content: center;background-color: white;position: relative;}#sk-container-id-1 div.sk-item::before, #sk-container-id-1 div.sk-parallel-item::before {content: \"\";position: absolute;border-left: 1px solid gray;box-sizing: border-box;top: 0;bottom: 0;left: 50%;z-index: -1;}#sk-container-id-1 div.sk-parallel-item {display: flex;flex-direction: column;z-index: 1;position: relative;background-color: white;}#sk-container-id-1 div.sk-parallel-item:first-child::after {align-self: flex-end;width: 50%;}#sk-container-id-1 div.sk-parallel-item:last-child::after {align-self: flex-start;width: 50%;}#sk-container-id-1 div.sk-parallel-item:only-child::after {width: 0;}#sk-container-id-1 div.sk-dashed-wrapped {border: 1px dashed gray;margin: 0 0.4em 0.5em 0.4em;box-sizing: border-box;padding-bottom: 0.4em;background-color: white;}#sk-container-id-1 div.sk-label label {font-family: monospace;font-weight: bold;display: inline-block;line-height: 1.2em;}#sk-container-id-1 div.sk-label-container {text-align: center;}#sk-container-id-1 div.sk-container {/* jupyter's `normalize.less` sets `[hidden] { display: none; }` but bootstrap.min.css set `[hidden] { display: none !important; }` so we also need the `!important` here to be able to override the default hidden behavior on the sphinx rendered scikit-learn.org. See: https://github.com/scikit-learn/scikit-learn/issues/21755 */display: inline-block !important;position: relative;}#sk-container-id-1 div.sk-text-repr-fallback {display: none;}</style><div id=\"sk-container-id-1\" class=\"sk-top-container\"><div class=\"sk-text-repr-fallback\"><pre>GradientBoostingClassifier(learning_rate=0.05, max_depth=6, n_estimators=200,\n",
       "                           random_state=42)</pre><b>In a Jupyter environment, please rerun this cell to show the HTML representation or trust the notebook. <br />On GitHub, the HTML representation is unable to render, please try loading this page with nbviewer.org.</b></div><div class=\"sk-container\" hidden><div class=\"sk-item\"><div class=\"sk-estimator sk-toggleable\"><input class=\"sk-toggleable__control sk-hidden--visually\" id=\"sk-estimator-id-1\" type=\"checkbox\" checked><label for=\"sk-estimator-id-1\" class=\"sk-toggleable__label sk-toggleable__label-arrow\">GradientBoostingClassifier</label><div class=\"sk-toggleable__content\"><pre>GradientBoostingClassifier(learning_rate=0.05, max_depth=6, n_estimators=200,\n",
       "                           random_state=42)</pre></div></div></div></div></div>"
      ],
      "text/plain": [
       "GradientBoostingClassifier(learning_rate=0.05, max_depth=6, n_estimators=200,\n",
       "                           random_state=42)"
      ]
     },
     "execution_count": 11,
     "metadata": {},
     "output_type": "execute_result"
    }
   ],
   "source": [
    "model = GradientBoostingClassifier(n_estimators=200, learning_rate=0.05, max_depth=6, random_state=42)\n",
    "model.fit(X_train, y_train)"
   ]
  },
  {
   "cell_type": "code",
   "execution_count": 12,
   "id": "bafe8cba-8103-4924-9779-d0cc8c15b927",
   "metadata": {
    "tags": []
   },
   "outputs": [
    {
     "name": "stdout",
     "output_type": "stream",
     "text": [
      "Classes in y_train: (array([0, 1]), array([14494, 11858]))\n",
      "Classes in y_test: (array([0, 1]), array([3623, 2965]))\n"
     ]
    }
   ],
   "source": [
    "print(\"Classes in y_train:\", np.unique(y_train, return_counts=True))\n",
    "print(\"Classes in y_test:\", np.unique(y_test, return_counts=True))"
   ]
  },
  {
   "cell_type": "markdown",
   "id": "e32853dd-cba9-495c-8512-e7ce22f50990",
   "metadata": {
    "tags": []
   },
   "source": [
    "## Evaluvation"
   ]
  },
  {
   "cell_type": "code",
   "execution_count": 13,
   "id": "24baa782-91aa-48e6-a452-f04762d55472",
   "metadata": {
    "tags": []
   },
   "outputs": [
    {
     "name": "stdout",
     "output_type": "stream",
     "text": [
      "\n",
      "--- On-Time Performance Model ---\n",
      "\n",
      "              precision    recall  f1-score   support\n",
      "\n",
      "           0       0.78      0.73      0.75      3623\n",
      "           1       0.69      0.74      0.72      2965\n",
      "\n",
      "    accuracy                           0.74      6588\n",
      "   macro avg       0.74      0.74      0.74      6588\n",
      "weighted avg       0.74      0.74      0.74      6588\n",
      "\n",
      "[[2648  975]\n",
      " [ 759 2206]]\n"
     ]
    }
   ],
   "source": [
    "y_pred = model.predict(X_test)\n",
    "\n",
    "print(\"\\n--- On-Time Performance Model ---\\n\")\n",
    "print(classification_report(y_test, y_pred))\n",
    "print(confusion_matrix(y_test, y_pred))"
   ]
  },
  {
   "cell_type": "code",
   "execution_count": 18,
   "id": "197845d9-f9a3-4432-9dc3-b79722cd0940",
   "metadata": {
    "tags": []
   },
   "outputs": [
    {
     "data": {
      "text/plain": [
       "['on_time_performance.joblib']"
      ]
     },
     "execution_count": 18,
     "metadata": {},
     "output_type": "execute_result"
    }
   ],
   "source": [
    "import joblib\n",
    "\n",
    "joblib.dump(model, \"on_time_performance.joblib\")"
   ]
  },
  {
   "cell_type": "markdown",
   "id": "2e627cdf-6ae3-492a-b8d2-2a9c096b153d",
   "metadata": {},
   "source": [
    "## Visualization"
   ]
  },
  {
   "cell_type": "code",
   "execution_count": 15,
   "id": "cec906e7-5710-4028-ab58-105c06a54ee7",
   "metadata": {
    "tags": []
   },
   "outputs": [
    {
     "name": "stdout",
     "output_type": "stream",
     "text": [
      "\n",
      "--- Visualizations ---\n"
     ]
    },
    {
     "ename": "NameError",
     "evalue": "name 'target_encoder' is not defined",
     "output_type": "error",
     "traceback": [
      "\u001b[0;31m---------------------------------------------------------------------------\u001b[0m",
      "\u001b[0;31mNameError\u001b[0m                                 Traceback (most recent call last)",
      "Cell \u001b[0;32mIn[15], line 25\u001b[0m\n\u001b[1;32m     21\u001b[0m     plt\u001b[38;5;241m.\u001b[39mshow()\n\u001b[1;32m     23\u001b[0m \u001b[38;5;28mprint\u001b[39m(\u001b[38;5;124m\"\u001b[39m\u001b[38;5;130;01m\\n\u001b[39;00m\u001b[38;5;124m--- Visualizations ---\u001b[39m\u001b[38;5;124m\"\u001b[39m)\n\u001b[0;32m---> 25\u001b[0m plot_confusion_matrix(y_test, y_pred, labels\u001b[38;5;241m=\u001b[39mtarget_encoder\u001b[38;5;241m.\u001b[39mclasses_, title\u001b[38;5;241m=\u001b[39m\u001b[38;5;124m\"\u001b[39m\u001b[38;5;124mOn-Time Performance Confusion Matrix\u001b[39m\u001b[38;5;124m\"\u001b[39m)\n\u001b[1;32m     26\u001b[0m plot_feature_importance(model, features, top_n\u001b[38;5;241m=\u001b[39m\u001b[38;5;241m10\u001b[39m, title\u001b[38;5;241m=\u001b[39m\u001b[38;5;124m\"\u001b[39m\u001b[38;5;124mTop 10 Features Influencing On-Time Performance\u001b[39m\u001b[38;5;124m\"\u001b[39m)\n",
      "\u001b[0;31mNameError\u001b[0m: name 'target_encoder' is not defined"
     ]
    }
   ],
   "source": [
    "# 1. Confusion Matrix Plot\n",
    "def plot_confusion_matrix(y_true, y_pred, labels, title=\"Confusion Matrix\"):\n",
    "    cm = confusion_matrix(y_true, y_pred)\n",
    "    plt.figure(figsize=(8,6))\n",
    "    sns.heatmap(cm, annot=True, fmt=\"d\", cmap=\"Blues\", xticklabels=labels, yticklabels=labels)\n",
    "    plt.xlabel('Predicted Label')\n",
    "    plt.ylabel('True Label')\n",
    "    plt.title(title)\n",
    "    plt.show()\n",
    "\n",
    "# 2. Feature Importance Plot\n",
    "def plot_feature_importance(model, feature_names, top_n=15, title=\"Top Feature Importances\"):\n",
    "    importances = model.feature_importances_\n",
    "    indices = np.argsort(importances)[-top_n:]  \n",
    "    plt.figure(figsize=(10,6))\n",
    "    plt.barh(range(len(indices)), importances[indices], align=\"center\")\n",
    "    plt.yticks(range(len(indices)), [feature_names[i] for i in indices])\n",
    "    plt.xlabel(\"Relative Importance\")\n",
    "    plt.title(title)\n",
    "    plt.grid(True)\n",
    "    plt.show()\n",
    "\n",
    "print(\"\\n--- Visualizations ---\")\n",
    "\n",
    "plot_confusion_matrix(y_test, y_pred, labels=target_encoder.classes_, title=\"On-Time Performance Confusion Matrix\")\n",
    "plot_feature_importance(model, features, top_n=10, title=\"Top 10 Features Influencing On-Time Performance\")"
   ]
  },
  {
   "cell_type": "code",
   "execution_count": null,
   "id": "61a899b7-3208-4cc4-b5bd-baeecc1d65bd",
   "metadata": {},
   "outputs": [],
   "source": []
  }
 ],
 "metadata": {
  "kernelspec": {
   "display_name": "Python 3 (ipykernel)",
   "language": "python",
   "name": "python3"
  },
  "language_info": {
   "codemirror_mode": {
    "name": "ipython",
    "version": 3
   },
   "file_extension": ".py",
   "mimetype": "text/x-python",
   "name": "python",
   "nbconvert_exporter": "python",
   "pygments_lexer": "ipython3",
   "version": "3.11.5"
  },
  "widgets": {
   "application/vnd.jupyter.widget-state+json": {
    "state": {},
    "version_major": 2,
    "version_minor": 0
   }
  }
 },
 "nbformat": 4,
 "nbformat_minor": 5
}
